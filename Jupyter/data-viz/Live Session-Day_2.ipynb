{
 "cells": [
  {
   "cell_type": "markdown",
   "id": "9522408e",
   "metadata": {},
   "source": [
    "# Calculate BMI\n",
    "    "
   ]
  },
  {
   "cell_type": "code",
   "execution_count": 1,
   "id": "2a3c3503",
   "metadata": {},
   "outputs": [
    {
     "name": "stdout",
     "output_type": "stream",
     "text": [
      "What is your hight? 1.7\n"
     ]
    }
   ],
   "source": [
    "hight=input(\"What is your hight? \")\n",
    "hight=float(hight)\n"
   ]
  },
  {
   "cell_type": "code",
   "execution_count": 2,
   "id": "9b5228f5",
   "metadata": {},
   "outputs": [
    {
     "name": "stdout",
     "output_type": "stream",
     "text": [
      "What is your Weight? 60\n"
     ]
    }
   ],
   "source": [
    "weight=input(\"What is your Weight? \")\n",
    "weight=float(weight)"
   ]
  },
  {
   "cell_type": "code",
   "execution_count": 3,
   "id": "1b6f0d7a",
   "metadata": {},
   "outputs": [
    {
     "name": "stdout",
     "output_type": "stream",
     "text": [
      "what is your nameumar\n"
     ]
    }
   ],
   "source": [
    "name=input(\"what is your name\")\n"
   ]
  },
  {
   "cell_type": "code",
   "execution_count": 4,
   "id": "7c43e09c",
   "metadata": {},
   "outputs": [
    {
     "data": {
      "text/plain": [
       "20.761245674740486"
      ]
     },
     "execution_count": 4,
     "metadata": {},
     "output_type": "execute_result"
    }
   ],
   "source": [
    "BMI=weight/hight**2\n",
    "BMI"
   ]
  },
  {
   "cell_type": "code",
   "execution_count": 13,
   "id": "9cc4e1f5",
   "metadata": {},
   "outputs": [
    {
     "data": {
      "text/plain": [
       "('my name is ', 'umar', 'my BMI is ', 20.761245674740486)"
      ]
     },
     "execution_count": 13,
     "metadata": {},
     "output_type": "execute_result"
    }
   ],
   "source": [
    "print=(\"my name is \",name,\"my BMI is \",BMI)\n",
    "print"
   ]
  }
 ],
 "metadata": {
  "kernelspec": {
   "display_name": "Python 3 (ipykernel)",
   "language": "python",
   "name": "python3"
  },
  "language_info": {
   "codemirror_mode": {
    "name": "ipython",
    "version": 3
   },
   "file_extension": ".py",
   "mimetype": "text/x-python",
   "name": "python",
   "nbconvert_exporter": "python",
   "pygments_lexer": "ipython3",
   "version": "3.9.13"
  }
 },
 "nbformat": 4,
 "nbformat_minor": 5
}
