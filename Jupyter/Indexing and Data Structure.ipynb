{
 "cells": [
  {
   "cell_type": "markdown",
   "id": "c18543ff",
   "metadata": {},
   "source": [
    "# -indexing"
   ]
  },
  {
   "cell_type": "code",
   "execution_count": null,
   "id": "f0c4ec05",
   "metadata": {},
   "outputs": [],
   "source": [
    "# make a string"
   ]
  },
  {
   "cell_type": "code",
   "execution_count": 1,
   "id": "98a8766d",
   "metadata": {},
   "outputs": [
    {
     "data": {
      "text/plain": [
       "'samosa,pakora'"
      ]
     },
     "execution_count": 1,
     "metadata": {},
     "output_type": "execute_result"
    }
   ],
   "source": [
    "a = 'samosa,pakora'\n",
    "a"
   ]
  },
  {
   "cell_type": "code",
   "execution_count": 2,
   "id": "58478805",
   "metadata": {},
   "outputs": [
    {
     "data": {
      "text/plain": [
       "'s'"
      ]
     },
     "execution_count": 2,
     "metadata": {},
     "output_type": "execute_result"
    }
   ],
   "source": [
    "a[0]"
   ]
  },
  {
   "cell_type": "code",
   "execution_count": 6,
   "id": "1ca5f6b7",
   "metadata": {},
   "outputs": [
    {
     "data": {
      "text/plain": [
       "'samosa'"
      ]
     },
     "execution_count": 6,
     "metadata": {},
     "output_type": "execute_result"
    }
   ],
   "source": [
    "a[0:6]"
   ]
  },
  {
   "cell_type": "code",
   "execution_count": 7,
   "id": "9a0be564",
   "metadata": {},
   "outputs": [
    {
     "data": {
      "text/plain": [
       "'samosa,pakora'"
      ]
     },
     "execution_count": 7,
     "metadata": {},
     "output_type": "execute_result"
    }
   ],
   "source": [
    "#last index is Exclusive\n",
    "a[0:13]"
   ]
  },
  {
   "cell_type": "code",
   "execution_count": 9,
   "id": "3c8f61c9",
   "metadata": {
    "scrolled": true
   },
   "outputs": [
    {
     "data": {
      "text/plain": [
       "13"
      ]
     },
     "execution_count": 9,
     "metadata": {},
     "output_type": "execute_result"
    }
   ],
   "source": [
    "len (a)"
   ]
  },
  {
   "cell_type": "markdown",
   "id": "e158cda9",
   "metadata": {},
   "source": [
    "## String methods"
   ]
  },
  {
   "cell_type": "code",
   "execution_count": 10,
   "id": "47e4b62c",
   "metadata": {},
   "outputs": [
    {
     "data": {
      "text/plain": [
       "'beryani'"
      ]
     },
     "execution_count": 10,
     "metadata": {},
     "output_type": "execute_result"
    }
   ],
   "source": [
    "food='beryani'\n",
    "food"
   ]
  },
  {
   "cell_type": "code",
   "execution_count": 11,
   "id": "5a518339",
   "metadata": {},
   "outputs": [
    {
     "data": {
      "text/plain": [
       "7"
      ]
     },
     "execution_count": 11,
     "metadata": {},
     "output_type": "execute_result"
    }
   ],
   "source": [
    "len(food)"
   ]
  },
  {
   "cell_type": "code",
   "execution_count": null,
   "id": "f2fafe5a",
   "metadata": {},
   "outputs": [],
   "source": [
    "#change frist word capital\n",
    "food.capitalize()"
   ]
  },
  {
   "cell_type": "code",
   "execution_count": 14,
   "id": "b6511657",
   "metadata": {},
   "outputs": [
    {
     "data": {
      "text/plain": [
       "'BERYANI'"
      ]
     },
     "execution_count": 14,
     "metadata": {},
     "output_type": "execute_result"
    }
   ],
   "source": [
    "#change every word capital Upper case\n",
    "food.upper()"
   ]
  },
  {
   "cell_type": "code",
   "execution_count": 15,
   "id": "3f5f4d57",
   "metadata": {
    "scrolled": true
   },
   "outputs": [
    {
     "data": {
      "text/plain": [
       "'sheryani'"
      ]
     },
     "execution_count": 15,
     "metadata": {},
     "output_type": "execute_result"
    }
   ],
   "source": [
    "#Replace\n",
    "food.replace(\"b\",\"sh\")"
   ]
  },
  {
   "cell_type": "code",
   "execution_count": 17,
   "id": "fc8e3766",
   "metadata": {},
   "outputs": [
    {
     "data": {
      "text/plain": [
       "'umar_anwar'"
      ]
     },
     "execution_count": 17,
     "metadata": {},
     "output_type": "execute_result"
    }
   ],
   "source": [
    "#counting a spesific alphabit in string\n",
    "name = \"umar_anwar\"\n",
    "name"
   ]
  },
  {
   "cell_type": "code",
   "execution_count": 22,
   "id": "a0dda694",
   "metadata": {},
   "outputs": [
    {
     "data": {
      "text/plain": [
       "3"
      ]
     },
     "execution_count": 22,
     "metadata": {},
     "output_type": "execute_result"
    }
   ],
   "source": [
    "name.count('a')"
   ]
  },
  {
   "cell_type": "markdown",
   "id": "cf44113e",
   "metadata": {},
   "source": [
    "### finding an index number in string"
   ]
  },
  {
   "cell_type": "code",
   "execution_count": 23,
   "id": "9656347c",
   "metadata": {},
   "outputs": [
    {
     "data": {
      "text/plain": [
       "'umar_anwar'"
      ]
     },
     "execution_count": 23,
     "metadata": {},
     "output_type": "execute_result"
    }
   ],
   "source": [
    "name = \"umar_anwar\"\n",
    "name"
   ]
  },
  {
   "cell_type": "code",
   "execution_count": 24,
   "id": "9d171366",
   "metadata": {},
   "outputs": [
    {
     "data": {
      "text/plain": [
       "2"
      ]
     },
     "execution_count": 24,
     "metadata": {},
     "output_type": "execute_result"
    }
   ],
   "source": [
    "name.find('a')"
   ]
  },
  {
   "cell_type": "markdown",
   "id": "5c71338d",
   "metadata": {},
   "source": [
    "# Basic data struture in Python\n",
    "### -1 Tuple\n",
    "### -2 List\n",
    "### -3 Dictionaries\n",
    "### -4 Set"
   ]
  },
  {
   "cell_type": "markdown",
   "id": "f0c1d8aa",
   "metadata": {},
   "source": [
    "## Tuple\n",
    "- Ordered Collection of elements\n",
    "- Enclosed in () round braces/Paranthesis\n",
    "- Different kind of element can be stored\n",
    "- Once element can be stored you can not change them(unmutatable)"
   ]
  },
  {
   "cell_type": "code",
   "execution_count": 26,
   "id": "a5bd89a7",
   "metadata": {},
   "outputs": [
    {
     "data": {
      "text/plain": [
       "(2, 'umar', 2.4, True)"
      ]
     },
     "execution_count": 26,
     "metadata": {},
     "output_type": "execute_result"
    }
   ],
   "source": [
    "tup1 = (2,'umar',2.4,True)\n",
    "tup1"
   ]
  },
  {
   "cell_type": "code",
   "execution_count": 27,
   "id": "8c4704f9",
   "metadata": {},
   "outputs": [
    {
     "data": {
      "text/plain": [
       "tuple"
      ]
     },
     "execution_count": 27,
     "metadata": {},
     "output_type": "execute_result"
    }
   ],
   "source": [
    "#type of Tuple\n",
    "type(tup1)"
   ]
  },
  {
   "cell_type": "markdown",
   "id": "487003ae",
   "metadata": {},
   "source": [
    "### Indexing in Tuple"
   ]
  },
  {
   "cell_type": "code",
   "execution_count": 28,
   "id": "f1a83a92",
   "metadata": {},
   "outputs": [
    {
     "data": {
      "text/plain": [
       "'umar'"
      ]
     },
     "execution_count": 28,
     "metadata": {},
     "output_type": "execute_result"
    }
   ],
   "source": [
    "tup1[1]"
   ]
  },
  {
   "cell_type": "code",
   "execution_count": 29,
   "id": "06e94e3d",
   "metadata": {},
   "outputs": [
    {
     "data": {
      "text/plain": [
       "(2, 'umar', 2.4)"
      ]
     },
     "execution_count": 29,
     "metadata": {},
     "output_type": "execute_result"
    }
   ],
   "source": [
    "tup1[0:3]"
   ]
  },
  {
   "cell_type": "code",
   "execution_count": 30,
   "id": "49d5b283",
   "metadata": {
    "scrolled": true
   },
   "outputs": [
    {
     "data": {
      "text/plain": [
       "4"
      ]
     },
     "execution_count": 30,
     "metadata": {},
     "output_type": "execute_result"
    }
   ],
   "source": [
    "#count of element in tuple\n",
    "len(tup1)"
   ]
  },
  {
   "cell_type": "code",
   "execution_count": 33,
   "id": "35a2e51a",
   "metadata": {},
   "outputs": [
    {
     "data": {
      "text/plain": [
       "(3, 'class', 2.6, False)"
      ]
     },
     "execution_count": 33,
     "metadata": {},
     "output_type": "execute_result"
    }
   ],
   "source": [
    "tup2=(3,\"class\",2.6, False)\n",
    "tup2"
   ]
  },
  {
   "cell_type": "code",
   "execution_count": 34,
   "id": "d03a0e05",
   "metadata": {},
   "outputs": [
    {
     "data": {
      "text/plain": [
       "(2, 'umar', 2.4, True, 3, 'class', 2.6, False)"
      ]
     },
     "execution_count": 34,
     "metadata": {},
     "output_type": "execute_result"
    }
   ],
   "source": [
    "tup1+tup2"
   ]
  },
  {
   "cell_type": "markdown",
   "id": "809b9358",
   "metadata": {},
   "source": [
    "## 2-List\n",
    "- orderd collection of elements\n",
    "- inclosed in [ ] square braces/brack\n",
    "- Mutateable you can change the value"
   ]
  },
  {
   "cell_type": "code",
   "execution_count": 39,
   "id": "ab4717fc",
   "metadata": {},
   "outputs": [
    {
     "data": {
      "text/plain": [
       "[2, 'baba aamar', False]"
      ]
     },
     "execution_count": 39,
     "metadata": {},
     "output_type": "execute_result"
    }
   ],
   "source": [
    "list1=[2,\"baba aamar\",False]\n",
    "list1"
   ]
  },
  {
   "cell_type": "code",
   "execution_count": 40,
   "id": "dfd96335",
   "metadata": {},
   "outputs": [
    {
     "data": {
      "text/plain": [
       "3"
      ]
     },
     "execution_count": 40,
     "metadata": {},
     "output_type": "execute_result"
    }
   ],
   "source": [
    "len(list1)"
   ]
  },
  {
   "cell_type": "code",
   "execution_count": 41,
   "id": "12f4e5f3",
   "metadata": {},
   "outputs": [
    {
     "data": {
      "text/plain": [
       "list"
      ]
     },
     "execution_count": 41,
     "metadata": {},
     "output_type": "execute_result"
    }
   ],
   "source": [
    "type(list1)"
   ]
  },
  {
   "cell_type": "code",
   "execution_count": 42,
   "id": "6a963153",
   "metadata": {},
   "outputs": [
    {
     "data": {
      "text/plain": [
       "False"
      ]
     },
     "execution_count": 42,
     "metadata": {},
     "output_type": "execute_result"
    }
   ],
   "source": [
    "list1[2]"
   ]
  },
  {
   "cell_type": "code",
   "execution_count": 43,
   "id": "8ca33757",
   "metadata": {},
   "outputs": [
    {
     "data": {
      "text/plain": [
       "[1, 3, 'umar_anwar', 250, False]"
      ]
     },
     "execution_count": 43,
     "metadata": {},
     "output_type": "execute_result"
    }
   ],
   "source": [
    "list2=[1,3,\"umar_anwar\", \"umar\",250,False]\n",
    "list2"
   ]
  },
  {
   "cell_type": "code",
   "execution_count": 44,
   "id": "c0f22986",
   "metadata": {},
   "outputs": [
    {
     "data": {
      "text/plain": [
       "[2, 'baba aamar', False, 1, 3, 'umar_anwar', 250, False]"
      ]
     },
     "execution_count": 44,
     "metadata": {},
     "output_type": "execute_result"
    }
   ],
   "source": [
    "list1+list2"
   ]
  },
  {
   "cell_type": "code",
   "execution_count": 45,
   "id": "c24d3203",
   "metadata": {},
   "outputs": [
    {
     "data": {
      "text/plain": [
       "[2, 'baba aamar', False, 2, 'baba aamar', False]"
      ]
     },
     "execution_count": 45,
     "metadata": {},
     "output_type": "execute_result"
    }
   ],
   "source": [
    "list1*2\n"
   ]
  },
  {
   "cell_type": "code",
   "execution_count": 60,
   "id": "90fbffe6",
   "metadata": {},
   "outputs": [
    {
     "data": {
      "text/plain": [
       "[2, 'baba aamar', False]"
      ]
     },
     "execution_count": 60,
     "metadata": {},
     "output_type": "execute_result"
    }
   ],
   "source": [
    "list1"
   ]
  },
  {
   "cell_type": "code",
   "execution_count": 67,
   "id": "0d5c0cd8",
   "metadata": {},
   "outputs": [
    {
     "data": {
      "text/plain": [
       "0"
      ]
     },
     "execution_count": 67,
     "metadata": {},
     "output_type": "execute_result"
    }
   ],
   "source": [
    "list1.count(\"umar\")"
   ]
  },
  {
   "cell_type": "code",
   "execution_count": 1,
   "id": "2298dda7",
   "metadata": {},
   "outputs": [
    {
     "name": "stdout",
     "output_type": "stream",
     "text": [
      "Count for 123 :  2\n",
      "Count for zara :  1\n"
     ]
    }
   ],
   "source": [
    "aList = [123, 'xyz', 'zara', 'abc', 123];\n",
    "\n",
    "print (\"Count for 123 : \", aList.count(123))\n",
    "print (\"Count for zara : \", aList.count('zara'))"
   ]
  },
  {
   "cell_type": "code",
   "execution_count": 2,
   "id": "91fa7ae2",
   "metadata": {
    "scrolled": true
   },
   "outputs": [
    {
     "data": {
      "text/plain": [
       "2"
      ]
     },
     "execution_count": 2,
     "metadata": {},
     "output_type": "execute_result"
    }
   ],
   "source": [
    "lista=[123,'abc','abc','umar',123]\n",
    "lista.count(123)"
   ]
  },
  {
   "cell_type": "code",
   "execution_count": 4,
   "id": "6087bc12",
   "metadata": {},
   "outputs": [],
   "source": [
    "list3=[30,32,34,54,75,20,21,23]"
   ]
  },
  {
   "cell_type": "code",
   "execution_count": 5,
   "id": "689ec636",
   "metadata": {},
   "outputs": [
    {
     "data": {
      "text/plain": [
       "[20, 21, 23, 30, 32, 34, 54, 75]"
      ]
     },
     "execution_count": 5,
     "metadata": {},
     "output_type": "execute_result"
    }
   ],
   "source": [
    "#list Sorting\n",
    "list3.sort()\n",
    "list3"
   ]
  },
  {
   "cell_type": "code",
   "execution_count": 8,
   "id": "d6f2da6b",
   "metadata": {},
   "outputs": [
    {
     "data": {
      "text/plain": [
       "[123, 'abc', 'abc', 'umar', 123, 20, 21, 23, 30, 32, 34, 54, 75]"
      ]
     },
     "execution_count": 8,
     "metadata": {},
     "output_type": "execute_result"
    }
   ],
   "source": [
    "lista+list3"
   ]
  },
  {
   "cell_type": "code",
   "execution_count": 9,
   "id": "27e26ca5",
   "metadata": {},
   "outputs": [
    {
     "data": {
      "text/plain": [
       "[123, 'abc', 'abc', 'umar', 123, 20, 21, 23, 30, 32, 34, 54, 75]"
      ]
     },
     "execution_count": 9,
     "metadata": {},
     "output_type": "execute_result"
    }
   ],
   "source": [
    "list = lista+list3\n",
    "list"
   ]
  },
  {
   "cell_type": "markdown",
   "id": "702c817a",
   "metadata": {},
   "source": [
    "## 3- Dictionaries\n",
    "- Am unorderd collection of elements\n",
    "- Key and values\n",
    "- curly braces or bracket {  }\n",
    "- Mutateable/change the value"
   ]
  },
  {
   "cell_type": "code",
   "execution_count": 10,
   "id": "29a114a6",
   "metadata": {},
   "outputs": [
    {
     "data": {
      "text/plain": [
       "{'samosa': 35, 'pakora': 70, 'raita': 20, 'chicken roll': 40}"
      ]
     },
     "execution_count": 10,
     "metadata": {},
     "output_type": "execute_result"
    }
   ],
   "source": [
    "# food and their prices\n",
    "food1={\"samosa\":35,\"pakora\":70,\"raita\":20,\"chicken roll\":40}\n",
    "food1"
   ]
  },
  {
   "cell_type": "code",
   "execution_count": 11,
   "id": "daaac64a",
   "metadata": {},
   "outputs": [
    {
     "data": {
      "text/plain": [
       "dict"
      ]
     },
     "execution_count": 11,
     "metadata": {},
     "output_type": "execute_result"
    }
   ],
   "source": [
    "type(food1)"
   ]
  },
  {
   "cell_type": "code",
   "execution_count": 14,
   "id": "d6d53de1",
   "metadata": {},
   "outputs": [
    {
     "data": {
      "text/plain": [
       "dict_keys(['samosa', 'pakora', 'raita', 'chicken roll'])"
      ]
     },
     "execution_count": 14,
     "metadata": {},
     "output_type": "execute_result"
    }
   ],
   "source": [
    "#extract data\n",
    "keys1 = food1.keys()\n",
    "keys1"
   ]
  },
  {
   "cell_type": "code",
   "execution_count": 17,
   "id": "2f8817f1",
   "metadata": {},
   "outputs": [
    {
     "data": {
      "text/plain": [
       "dict_values([35, 70, 20, 40])"
      ]
     },
     "execution_count": 17,
     "metadata": {},
     "output_type": "execute_result"
    }
   ],
   "source": [
    "value1 = food1.values()\n",
    "value1"
   ]
  },
  {
   "cell_type": "code",
   "execution_count": 18,
   "id": "0d688fc9",
   "metadata": {},
   "outputs": [
    {
     "data": {
      "text/plain": [
       "{'samosa': 35, 'pakora': 70, 'raita': 20, 'chicken roll': 40, 'Tikki': 15}"
      ]
     },
     "execution_count": 18,
     "metadata": {},
     "output_type": "execute_result"
    }
   ],
   "source": [
    "#Adding new element\n",
    "food1['Tikki']=15\n",
    "food1"
   ]
  },
  {
   "cell_type": "markdown",
   "id": "611efac3",
   "metadata": {},
   "source": [
    " ## 4- Set\n",
    " - Unorderd and Unindexed\n",
    " - Curly braces is used {  }\n",
    " - no duplicate allowed"
   ]
  },
  {
   "cell_type": "code",
   "execution_count": null,
   "id": "9dc238dd",
   "metadata": {},
   "outputs": [],
   "source": []
  },
  {
   "cell_type": "code",
   "execution_count": null,
   "id": "a44d9e51",
   "metadata": {},
   "outputs": [],
   "source": []
  },
  {
   "cell_type": "code",
   "execution_count": null,
   "id": "ca25efb3",
   "metadata": {},
   "outputs": [],
   "source": []
  },
  {
   "cell_type": "code",
   "execution_count": null,
   "id": "72fbedc4",
   "metadata": {},
   "outputs": [],
   "source": []
  },
  {
   "cell_type": "code",
   "execution_count": null,
   "id": "5207e241",
   "metadata": {},
   "outputs": [],
   "source": []
  },
  {
   "cell_type": "code",
   "execution_count": null,
   "id": "3e5df4ca",
   "metadata": {},
   "outputs": [],
   "source": []
  }
 ],
 "metadata": {
  "kernelspec": {
   "display_name": "Python 3 (ipykernel)",
   "language": "python",
   "name": "python3"
  },
  "language_info": {
   "codemirror_mode": {
    "name": "ipython",
    "version": 3
   },
   "file_extension": ".py",
   "mimetype": "text/x-python",
   "name": "python",
   "nbconvert_exporter": "python",
   "pygments_lexer": "ipython3",
   "version": "3.9.13"
  }
 },
 "nbformat": 4,
 "nbformat_minor": 5
}
