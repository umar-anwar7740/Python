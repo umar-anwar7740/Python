{
 "cells": [
  {
   "cell_type": "markdown",
   "id": "d8c3d4f1",
   "metadata": {},
   "source": [
    "# Python chilla with Aamar Baba\n",
    "# Basic of Python\n",
    "**01-My frist program**"
   ]
  },
  {
   "cell_type": "code",
   "execution_count": 1,
   "id": "d8235991",
   "metadata": {},
   "outputs": [
    {
     "name": "stdout",
     "output_type": "stream",
     "text": [
      "5\n",
      "hello world\n",
      "we are larning python with aamar\n"
     ]
    }
   ],
   "source": [
    "print(2+3)\n",
    "print(\"hello world\")\n",
    "print(\"we are larning python with aamar\")"
   ]
  },
  {
   "cell_type": "markdown",
   "id": "f7d13498",
   "metadata": {},
   "source": [
    "**02-operatiors**"
   ]
  },
  {
   "cell_type": "code",
   "execution_count": 2,
   "id": "bac0babf",
   "metadata": {},
   "outputs": [
    {
     "name": "stdout",
     "output_type": "stream",
     "text": [
      "5\n",
      "-2\n",
      "0.75\n",
      "6\n",
      "3\n",
      "0\n",
      "64\n",
      "9.0\n"
     ]
    }
   ],
   "source": [
    "print(2+3)\n",
    "print(3-5)\n",
    "print(3/4)\n",
    "print(3*2)\n",
    "print(3%6)\n",
    "print(3//4)\n",
    "print(4**3)\n",
    "print(3**2/3*3+6-6)"
   ]
  },
  {
   "cell_type": "markdown",
   "id": "fd416d16",
   "metadata": {},
   "source": [
    "**03-String**"
   ]
  },
  {
   "cell_type": "code",
   "execution_count": 4,
   "id": "7a662472",
   "metadata": {},
   "outputs": [
    {
     "name": "stdout",
     "output_type": "stream",
     "text": [
      "hello world\n",
      "we are learning with aamar\n",
      "put a code in single quotes\n",
      "put a double quotes\n",
      "put a code in tripple quotes\n",
      "what's up\n"
     ]
    }
   ],
   "source": [
    "print(\"hello world\")\n",
    "print(\"we are learning with aamar\")\n",
    "print('put a code in single quotes')\n",
    "print(\"put a double quotes\")\n",
    "print('''put a code in tripple quotes''')\n",
    "print(\"what's up\")\n",
    "\n"
   ]
  },
  {
   "cell_type": "markdown",
   "id": "da1af005",
   "metadata": {},
   "source": [
    "**04-Comments**"
   ]
  },
  {
   "cell_type": "code",
   "execution_count": 5,
   "id": "a08640c4",
   "metadata": {},
   "outputs": [
    {
     "name": "stdout",
     "output_type": "stream",
     "text": [
      "how are you\n",
      "we are learning with aamar\n",
      "8\n"
     ]
    }
   ],
   "source": [
    "#press those to comment out (Ctrl+/)\n",
    "print(\"how are you\")\n",
    "print(\"we are learning with aamar\")#print a string \n",
    "print(2*4)#print operatiors function with numbers"
   ]
  },
  {
   "cell_type": "markdown",
   "id": "c097b687",
   "metadata": {},
   "source": [
    "**05-Variables**"
   ]
  },
  {
   "cell_type": "code",
   "execution_count": 6,
   "id": "21d06de7",
   "metadata": {},
   "outputs": [
    {
     "name": "stdout",
     "output_type": "stream",
     "text": [
      "5\n",
      "we are learning python with aamar\n",
      "15\n",
      "<class 'int'>\n",
      "<class 'str'>\n",
      "11\n",
      "Mangos Bananas\n",
      "<class 'str'>\n"
     ]
    }
   ],
   "source": [
    "# #variables:objects contaning  specific values\n",
    "x = 5 #numaric or integer variable\n",
    "print(x)\n",
    "\n",
    "\n",
    "y=\"we are learning python with aamar\"#string variable\n",
    "print(y)\n",
    "\n",
    "x=x+10 #or x=15\n",
    "print(x)\n",
    "\n",
    "\n",
    "# #types/class of variable\n",
    "type(x)\n",
    "print(type(x))#numaric class\n",
    "type(y)\n",
    "print(type(y))#string class\n",
    "\n",
    "\n",
    "\n",
    "# #print_type_class\n",
    "\n",
    "# #-Rule to assign a variable \n",
    "# #-The varibale should contain latter, number or underscore\n",
    "# #-Do not start with a number\n",
    "# #-Spaces are not allowed\n",
    "# #-Do not use keyword in functions (break,mean ,media,etc.)\n",
    "# #-Short and discriptive\n",
    "# #-case sensrivity (Lowercase,and upercase)lowercase should be used\n",
    "\n",
    "\n",
    "\n",
    "\n",
    "fruit_basket1=8+3\n",
    "fruit_basket=\"Mangos\"\n",
    "fruit_basket2=\"Bananas\"\n",
    "print(fruit_basket1)\n",
    "print(fruit_basket,fruit_basket2)\n",
    "print(type(fruit_basket))"
   ]
  },
  {
   "cell_type": "markdown",
   "id": "3be6b6b4",
   "metadata": {},
   "source": [
    "**06-Input_variables**"
   ]
  },
  {
   "cell_type": "code",
   "execution_count": 7,
   "id": "75b1eadb",
   "metadata": {},
   "outputs": [
    {
     "name": "stdout",
     "output_type": "stream",
     "text": [
      "Mangos\n",
      "what is your name? usama\n",
      "usama\n",
      "what is your name? usama\n",
      "hello! usama\n",
      "what is your name? usama\n",
      "hello! usama\n",
      "what is your name? usama\n",
      "how old are you 20\n",
      "Hello! usama , your are still young\n",
      "yes\n",
      "yes\n"
     ]
    }
   ],
   "source": [
    "fruit_basket=\"Mangos\"\n",
    "print(fruit_basket)\n",
    "\n",
    "\n",
    "\n",
    "# #input Function \n",
    "from unicodedata import name\n",
    "\n",
    "\n",
    "fruit_basket=input(\"what is your name? \")\n",
    "print(fruit_basket)\n",
    "#-2nd stage input function\n",
    "name=input('what is your name? ')\n",
    "greetings=\"hello!\"\n",
    "print(greetings,name)\n",
    "\n",
    "# #-3rd stage input function\n",
    "name=input(\"what is your name? \")\n",
    "print(\"hello!\",name)\n",
    "\n",
    "\n",
    "#-4th stage input function \n",
    "name=input(\"what is your name? \")\n",
    "age=input(\"how old are you \")\n",
    "greetings=\"Hello!\"\n",
    "print(greetings,name, \", your are still young\")\n",
    "reply=input(\"\")\n",
    "print(reply)"
   ]
  },
  {
   "cell_type": "markdown",
   "id": "faceb492",
   "metadata": {},
   "source": [
    "**07-Conditional_Logic**"
   ]
  },
  {
   "cell_type": "code",
   "execution_count": 8,
   "id": "e19bd115",
   "metadata": {},
   "outputs": [
    {
     "name": "stdout",
     "output_type": "stream",
     "text": [
      "True\n",
      "True\n",
      "False\n",
      "True\n",
      "True\n",
      "True\n",
      "True\n",
      "what is ali age? 2\n",
      "False\n"
     ]
    }
   ],
   "source": [
    "#-Logical operators are either \"true or false\" or \" yes or no \" or \" 0 or 1\"\n",
    "\n",
    "#-Equal to                                      ==\n",
    "#-Not Equal to                                  !=\n",
    "#-less than                                     <\n",
    "#-greater then                                  >\n",
    "#-less then or equal to                         <=\n",
    "#-greater then or equal to                      =\n",
    "\n",
    "\n",
    "print(4==4)\n",
    "print(4!=5)\n",
    "print(4>5)\n",
    "print(5<6)\n",
    "print(5<=6)\n",
    "print(7>=6)\n",
    "\n",
    "#application of logical operator\n",
    "ali_age=5\n",
    "school_age_is=3\n",
    "print(ali_age>=school_age_is)\n",
    "#input Function and logical operator\n",
    "school_age_is=5\n",
    "ali_age=input('what is ali age? ')\n",
    "ali_age=int(ali_age)\n",
    "print(school_age_is<=ali_age)"
   ]
  },
  {
   "cell_type": "markdown",
   "id": "61b0d895",
   "metadata": {},
   "source": [
    "**08-Type_Conversion**"
   ]
  },
  {
   "cell_type": "code",
   "execution_count": 9,
   "id": "250ce781",
   "metadata": {},
   "outputs": [
    {
     "name": "stdout",
     "output_type": "stream",
     "text": [
      "166.1 type of x is <class 'float'>\n",
      "what is your age23\n",
      "23 <class 'int'>\n"
     ]
    }
   ],
   "source": [
    "from tkinter import Y\n",
    "\n",
    "\n",
    "x=11                    #integer\n",
    "y=15.1                  #float\n",
    "z=\"hello world\"         #string\n",
    "\n",
    "x=x*y\n",
    "#implecit type conversion\n",
    "print (x,\"type of x is\",type(x))\n",
    "\n",
    "#explicit type conversion\n",
    "\n",
    "age=input(\"what is your age\")\n",
    "print(age,type(int(age)))"
   ]
  },
  {
   "cell_type": "markdown",
   "id": "c2a80e71",
   "metadata": {},
   "source": [
    "**09-if_else_elif**"
   ]
  },
  {
   "cell_type": "code",
   "execution_count": 10,
   "id": "9ddcd100",
   "metadata": {},
   "outputs": [
    {
     "name": "stdout",
     "output_type": "stream",
     "text": [
      "Age is not complete for joining school\n",
      "what is usama age? 3\n",
      "<class 'int'>\n",
      "Age is not complete for joining School\n"
     ]
    }
   ],
   "source": [
    "#required_age_at_school\n",
    "usama_age=3\n",
    "school_required_age=5\n",
    "if usama_age==school_required_age:\n",
    "     print(\"usama go to school\")\n",
    "else:\n",
    "     print(\"Age is not complete for joining school\")\n",
    "\n",
    "\n",
    "\n",
    "\n",
    "usama_age=input(\"what is usama age? \")\n",
    "school_required_age=5\n",
    "usama_age=int(usama_age)\n",
    "print(type(usama_age))\n",
    "if usama_age == school_required_age:\n",
    "    print(\"Usama has join the School\")\n",
    "elif usama_age>school_required_age:\n",
    "    print(\"Usama should join higher secoundary School\")\n",
    "elif usama_age <= 2:\n",
    "    print(\"Usama is still a baby\")\n",
    "else:\n",
    "    print(\"Age is not complete for joining School\")"
   ]
  },
  {
   "cell_type": "markdown",
   "id": "b5abb452",
   "metadata": {},
   "source": [
    "**10- function**"
   ]
  },
  {
   "cell_type": "code",
   "execution_count": 11,
   "id": "0e380fc0",
   "metadata": {},
   "outputs": [
    {
     "name": "stdout",
     "output_type": "stream",
     "text": [
      "we are learning with aamar\n",
      "we are learning with aamar\n",
      "we are learning with aamar\n",
      "we are learning with aamar\n",
      "we are learning with ammar\n",
      "we are learning with ammar\n",
      "Usama is should go to higher secoundary school\n",
      "38\n"
     ]
    }
   ],
   "source": [
    "#Defining a function\n",
    "#_1\n",
    "from cgitb import text\n",
    "from hashlib import new\n",
    "from tarfile import USTAR_FORMAT\n",
    "\n",
    "\n",
    "def print_umar():\n",
    "    print(\"we are learning with aamar\")\n",
    "    print(\"we are learning with aamar\")\n",
    "print_umar()\n",
    "# #_2\n",
    "def print_umar():\n",
    "    text=\"we are learning with aamar\"\n",
    "    print(text)\n",
    "    print(text)\n",
    "print_umar()\n",
    "#_3\n",
    "def print_umar(text):\n",
    "    print(text)\n",
    "    print(text)\n",
    "print_umar(\"we are learning with ammar\")\n",
    "\n",
    "\n",
    "# #defining a function with if,elif and else statment\n",
    "\n",
    "def school_calculator(age,text):\n",
    "    if age==5:\n",
    "        print(\"Usama is join the School\")\n",
    "    elif age>5:\n",
    "       print(\"Usama is should go to higher secoundary school\")\n",
    "    else:\n",
    "       print(\"Usama is still a baby\")\n",
    "school_calculator(20, \"Usama\")\n",
    "\n",
    "# define a function of future\n",
    "def future_age(age):\n",
    "    new_age=age+20\n",
    "    return new_age\n",
    "    print(\"new age\")\n",
    "\n",
    "future_age_predication=future_age(18)\n",
    "print(future_age_predication)"
   ]
  },
  {
   "cell_type": "markdown",
   "id": "10e8db1f",
   "metadata": {},
   "source": [
    "**11-Loops**"
   ]
  },
  {
   "cell_type": "code",
   "execution_count": 12,
   "id": "b8ed8acb",
   "metadata": {},
   "outputs": [
    {
     "name": "stdout",
     "output_type": "stream",
     "text": [
      "0\n",
      "1\n",
      "2\n",
      "3\n",
      "4\n",
      "5\n",
      "4\n",
      "5\n",
      "6\n",
      "7\n",
      "8\n",
      "9\n",
      "10\n",
      "Mon\n",
      "tue\n",
      "wed\n",
      "thu\n"
     ]
    }
   ],
   "source": [
    "# #while and For loops\n",
    "\n",
    "\n",
    "#  #while loops\n",
    "\n",
    "from re import X\n",
    "\n",
    "\n",
    "x=0\n",
    "while (x<=5):\n",
    "     print(x)\n",
    "     x=x+1\n",
    "\n",
    "# # for loop\n",
    "\n",
    "\n",
    "for x in range(4,11):\n",
    "    print(x)\n",
    "\n",
    "\n",
    "#array\n",
    "days=  [\"Mon\",\"tue\",\"wed\",\"thu\",\"fri\",\"sat\",\"sun\"]\n",
    "\n",
    "for d in days:\n",
    "    if (d==\"fri\"): break   #loop stop\n",
    "    print(d)"
   ]
  },
  {
   "cell_type": "markdown",
   "id": "c6ca4a1c",
   "metadata": {},
   "source": [
    "**12-Import Libraries**"
   ]
  },
  {
   "cell_type": "code",
   "execution_count": 13,
   "id": "1631ebf3",
   "metadata": {},
   "outputs": [
    {
     "name": "stdout",
     "output_type": "stream",
     "text": [
      "the value of pi is 3.141592653589793\n",
      "275.0\n"
     ]
    }
   ],
   "source": [
    "#if you want to print the value of pi\n",
    "import math\n",
    "print(\"the value of pi is\",math.pi)\n",
    "\n",
    "\n",
    "import statistics\n",
    "\n",
    "x=[100,200,350,500]\n",
    "\n",
    "print(statistics.median(x))"
   ]
  },
  {
   "cell_type": "markdown",
   "id": "01f87a2d",
   "metadata": {},
   "source": [
    "**13-Truble_Shooting**"
   ]
  },
  {
   "cell_type": "code",
   "execution_count": null,
   "id": "83edb5c7",
   "metadata": {},
   "outputs": [],
   "source": [
    "# print(we are learning puthon with aamar)#this is syntex error\n",
    "\n",
    "\n",
    "#print(25/0)# this is runtime error"
   ]
  }
 ],
 "metadata": {
  "kernelspec": {
   "display_name": "Python 3 (ipykernel)",
   "language": "python",
   "name": "python3"
  },
  "language_info": {
   "codemirror_mode": {
    "name": "ipython",
    "version": 3
   },
   "file_extension": ".py",
   "mimetype": "text/x-python",
   "name": "python",
   "nbconvert_exporter": "python",
   "pygments_lexer": "ipython3",
   "version": "3.9.13"
  }
 },
 "nbformat": 4,
 "nbformat_minor": 5
}
